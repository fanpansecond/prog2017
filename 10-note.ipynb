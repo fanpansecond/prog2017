{
 "cells": [
  {
   "cell_type": "markdown",
   "metadata": {
    "collapsed": true
   },
   "source": [
    "120"
   ]
  },
  {
   "cell_type": "code",
   "execution_count": 1,
   "metadata": {
    "collapsed": false
   },
   "outputs": [
    {
     "name": "stdout",
     "output_type": "stream",
     "text": [
      " 名前は 太郎，10歳，体重は20.6Kg です。\n"
     ]
    }
   ],
   "source": [
    "# coding:utf-8\n",
    "name = ' 太郎'\n",
    "age = 10\n",
    "weight = 20.567\n",
    "print(' 名前は{0}，{1}歳，体重は{2:.1f}Kg です。'.format(name, age, weight))"
   ]
  },
  {
   "cell_type": "markdown",
   "metadata": {
    "collapsed": true
   },
   "source": [
    "121"
   ]
  },
  {
   "cell_type": "code",
   "execution_count": 1,
   "metadata": {
    "collapsed": false
   },
   "outputs": [
    {
     "name": "stdout",
     "output_type": "stream",
     "text": [
      " 何か入力してください：ﾋｮｵｵｵｵｵｵｵｵｵｵｵｵｵｗｗｗｗｗｗｗｗｗｗｗｗｗｗｗｗ\n",
      " 入力されたのは「ﾋｮｵｵｵｵｵｵｵｵｵｵｵｵｵｗｗｗｗｗｗｗｗｗｗｗｗｗｗｗｗ」です。\n"
     ]
    }
   ],
   "source": [
    "# coding:utf-8\n",
    "\n",
    "myStr = input(' 何か入力してください：')\n",
    "print(' 入力されたのは「{0}」です。'.format(myStr))"
   ]
  },
  {
   "cell_type": "markdown",
   "metadata": {
    "collapsed": true
   },
   "source": [
    "122"
   ]
  },
  {
   "cell_type": "code",
   "execution_count": null,
   "metadata": {
    "collapsed": false
   },
   "outputs": [
    {
     "name": "stdout",
     "output_type": "stream",
     "text": [
      " こんにちは\n"
     ]
    }
   ],
   "source": [
    "# coding:utf-8\n",
    "print(' こんにちは')\n",
    "\n",
    "#身長の入力\n",
    "h = input(' 身長（m）？ ')\n",
    "print(' 身長は{0}m ですね'.format(h))\n",
    "\n",
    "#体重の入力\n",
    "w = input(' 体重（kg）？ ')\n",
    "print(' 体重は{0}kg ですね'.format(w))\n",
    "\n",
    "#BMI の計算\n",
    "bmi = float(w) / float(h) ** 2\n",
    "\n",
    "#BMI の表示\n",
    "print('BMI は{0}です'.format(bmi))\n",
    "print(' 約{0:.1f}です'.format(bmi))"
   ]
  },
  {
   "cell_type": "markdown",
   "metadata": {},
   "source": [
    "123"
   ]
  },
  {
   "cell_type": "markdown",
   "metadata": {},
   "source": [
    "(コロン）　（スペースキーまたはタブキー）"
   ]
  },
  {
   "cell_type": "markdown",
   "metadata": {},
   "source": [
    "124"
   ]
  },
  {
   "cell_type": "code",
   "execution_count": 5,
   "metadata": {
    "collapsed": false
   },
   "outputs": [
    {
     "name": "stdout",
     "output_type": "stream",
     "text": [
      "A\n",
      "B\n"
     ]
    }
   ],
   "source": [
    "sample_dic = {'A':100,'B':200}\n",
    "\n",
    "for v in sample_dic:\n",
    "    print(v)"
   ]
  },
  {
   "cell_type": "markdown",
   "metadata": {},
   "source": [
    "キーのところだけ出てくる"
   ]
  },
  {
   "cell_type": "markdown",
   "metadata": {},
   "source": [
    "125"
   ]
  },
  {
   "cell_type": "markdown",
   "metadata": {},
   "source": [
    "else  elif"
   ]
  },
  {
   "cell_type": "markdown",
   "metadata": {},
   "source": [
    "127"
   ]
  },
  {
   "cell_type": "code",
   "execution_count": 6,
   "metadata": {
    "collapsed": false
   },
   "outputs": [
    {
     "data": {
      "text/plain": [
       "b' \\xe3\\x81\\x82'"
      ]
     },
     "execution_count": 6,
     "metadata": {},
     "output_type": "execute_result"
    }
   ],
   "source": [
    "' あ'.encode('utf-8')"
   ]
  },
  {
   "cell_type": "code",
   "execution_count": 8,
   "metadata": {
    "collapsed": false
   },
   "outputs": [
    {
     "data": {
      "text/plain": [
       "b' \\x82\\xa0'"
      ]
     },
     "execution_count": 8,
     "metadata": {},
     "output_type": "execute_result"
    }
   ],
   "source": [
    "' あ'.encode('cp932')"
   ]
  },
  {
   "cell_type": "markdown",
   "metadata": {},
   "source": [
    "あ　がどういう数字で表されているかを出すもの、16進数は2桁で1byteになる　bやaは数字である\n",
    "上が３byte 下が2byte"
   ]
  },
  {
   "cell_type": "code",
   "execution_count": null,
   "metadata": {
    "collapsed": true
   },
   "outputs": [],
   "source": []
  }
 ],
 "metadata": {
  "kernelspec": {
   "display_name": "Python 3",
   "language": "python",
   "name": "python3"
  },
  "language_info": {
   "codemirror_mode": {
    "name": "ipython",
    "version": 3
   },
   "file_extension": ".py",
   "mimetype": "text/x-python",
   "name": "python",
   "nbconvert_exporter": "python",
   "pygments_lexer": "ipython3",
   "version": "3.6.0"
  }
 },
 "nbformat": 4,
 "nbformat_minor": 2
}
